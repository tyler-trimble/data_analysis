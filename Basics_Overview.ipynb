{
 "cells": [
  {
   "cell_type": "markdown",
   "metadata": {},
   "source": [
    "# Basics of Data Analysis in Python!\n",
    "Welcome to the basics of data analytics in python! This will cover the basic functionality of python libraries like pandas, numpy, and matplotlib that you may use to manipulate and visualize data."
   ]
  },
  {
   "cell_type": "markdown",
   "metadata": {},
   "source": [
    "### A) IMPORT LIBRARIES"
   ]
  },
  {
   "cell_type": "code",
   "execution_count": 7,
   "metadata": {},
   "outputs": [],
   "source": [
    "import pandas as pd\n",
    "import numpy as np\n",
    "import matplotlib as plt"
   ]
  },
  {
   "cell_type": "markdown",
   "metadata": {},
   "source": [
    "### B) LOADING DATA\n",
    "The first step is to read in the data that has been collected. To do this we will use the pandas python library. Pandas is a popular open-source data manipulation and analysis library for Python. It provides data structures for efficiently storing and manipulating large datasets and tools for working with structured data. The primary data structure in pandas is the 'DataFrame' package."
   ]
  },
  {
   "cell_type": "markdown",
   "metadata": {},
   "source": [
    "##### Creating a Pandas Dataframe\n",
    "Reading in a CSV file and an Excel spreadsheet"
   ]
  },
  {
   "cell_type": "code",
   "execution_count": 8,
   "metadata": {},
   "outputs": [],
   "source": [
    "# Read in csv file stored in data_analysis/data_samples\n",
    "csv_input = './Data Samples/nba_players.csv'\n",
    "csv_df = pd.read_csv(csv_input)\n",
    "\n",
    "# Read in .xlsx file stored in data_analysis/data_samples\n",
    "# xlsx_input = './Data Samples/sample.xlsx'\n",
    "# xlsx_df = pd.read_excel(xlsx_input)\n",
    "\n"
   ]
  },
  {
   "cell_type": "markdown",
   "metadata": {},
   "source": [
    "#### Exploring the Data"
   ]
  },
  {
   "cell_type": "code",
   "execution_count": 16,
   "metadata": {},
   "outputs": [
    {
     "name": "stdout",
     "output_type": "stream",
     "text": [
      "Head:               NBA Player    Salary  Points Per Game  Games Played\n",
      "0           LeBron James  39000000             25.4            55\n",
      "1           Kevin Durant  38000000             27.0            60\n",
      "2          Stephen Curry  43000000             30.5            58\n",
      "3  Giannis Antetokounmpo  39270000             28.1            57\n",
      "4          Kawhi Leonard  34400000             26.9            53\n",
      "\n",
      "Tail:          NBA Player    Salary  Points Per Game  Games Played\n",
      "25      Rudy Gobert  41800000             14.3            55\n",
      "26      CJ McCollum  29730000             23.1            50\n",
      "27  Khris Middleton  33480000             20.4            55\n",
      "28     Jamal Murray  29230000             21.2            52\n",
      "29   Brandon Ingram  27093019             23.8            56\n",
      "\n",
      "Shape: (30, 4)\n",
      "\n",
      "Info: \n",
      "<class 'pandas.core.frame.DataFrame'>\n",
      "RangeIndex: 30 entries, 0 to 29\n",
      "Data columns (total 4 columns):\n",
      " #   Column           Non-Null Count  Dtype  \n",
      "---  ------           --------------  -----  \n",
      " 0   NBA Player       30 non-null     object \n",
      " 1   Salary           30 non-null     int64  \n",
      " 2   Points Per Game  30 non-null     float64\n",
      " 3   Games Played     30 non-null     int64  \n",
      "dtypes: float64(1), int64(2), object(1)\n",
      "memory usage: 1.1+ KB\n",
      "None\n",
      "Describe:              Salary  Points Per Game  Games Played\n",
      "count  3.000000e+01        30.000000     30.000000\n",
      "mean   3.029243e+07        23.963333     55.266667\n",
      "std    1.093602e+07         4.741198      2.377094\n",
      "min    8.500000e+06        14.300000     50.000000\n",
      "25%    2.731976e+07        21.675000     54.000000\n",
      "50%    3.243500e+07        24.800000     55.000000\n",
      "75%    3.875000e+07        27.000000     57.000000\n",
      "max    4.380000e+07        31.300000     60.000000\n",
      "\n",
      "Columns: Index(['NBA Player', 'Salary', 'Points Per Game', 'Games Played'], dtype='object')\n",
      "\n"
     ]
    }
   ],
   "source": [
    "n = 5\n",
    "\n",
    "# Remember python index starts at 0, not 1\n",
    "# First n rows of the DataFrame\n",
    "print(f\"Head: {csv_df.head(n)}\\n\")\n",
    "\n",
    "# Last n rows of the DataFrame\n",
    "print(f\"Tail: {csv_df.tail(n)}\\n\")\n",
    "\n",
    "# Number of rows and columns in the DataFrame\n",
    "print(f\"Shape: {csv_df.shape}\\n\")\n",
    "\n",
    "# Summary of the DataFrame\n",
    "print(f\"Info: \")\n",
    "print(csv_df.info())\n",
    "\n",
    "# Descriptive statistics of the DataFrame\n",
    "print(f\"Describe: {csv_df.describe()}\\n\")\n",
    "\n",
    "# List of column names\n",
    "print(f\"Columns: {csv_df.columns}\\n\")\n",
    "\n",
    "# Sum, mean, standard deviation, minimum, and maximum of each column\n",
    "# print(f\"Sum: {csv_df.sum()}\\nMean: {csv_df.mean()}\\nStD: {csv_df.std()}\\nMin: {csv_df.min}\\nMax: {csv_df.max}\")"
   ]
  },
  {
   "cell_type": "markdown",
   "metadata": {},
   "source": [
    "### C) VISUALIZING DATA"
   ]
  },
  {
   "cell_type": "markdown",
   "metadata": {},
   "source": [
    "### D) SAVING DATA"
   ]
  }
 ],
 "metadata": {
  "kernelspec": {
   "display_name": "Python 3",
   "language": "python",
   "name": "python3"
  },
  "language_info": {
   "codemirror_mode": {
    "name": "ipython",
    "version": 3
   },
   "file_extension": ".py",
   "mimetype": "text/x-python",
   "name": "python",
   "nbconvert_exporter": "python",
   "pygments_lexer": "ipython3",
   "version": "3.11.6"
  }
 },
 "nbformat": 4,
 "nbformat_minor": 2
}
